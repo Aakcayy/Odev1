{
 "cells": [
  {
   "cell_type": "code",
   "execution_count": 1,
   "id": "99e00bc4-e001-46d6-8b3c-2fdd9cec50e0",
   "metadata": {},
   "outputs": [],
   "source": [
    "import numpy as np"
   ]
  },
  {
   "cell_type": "code",
   "execution_count": 2,
   "id": "4ba89ff6-9ad9-4974-a2d4-29c120faac98",
   "metadata": {},
   "outputs": [
    {
     "name": "stdout",
     "output_type": "stream",
     "text": [
      "[1 2 3 4 5]\n",
      "<class 'numpy.ndarray'>\n"
     ]
    }
   ],
   "source": [
    "dizi = np.array([1, 2, 3, 4, 5])\n",
    "print(dizi)\n",
    "print(type(dizi))\n",
    "\n",
    "#Python listelerini veya diğer dizileri NumPy dizisine  dönüştürmek için "
   ]
  },
  {
   "cell_type": "code",
   "execution_count": 3,
   "id": "74982344-6adb-4e20-a4aa-5c07fab1f3da",
   "metadata": {},
   "outputs": [
    {
     "name": "stdout",
     "output_type": "stream",
     "text": [
      "[0 2 4 6 8]\n"
     ]
    }
   ],
   "source": [
    "dizi = np.arange(0, 10, 2) \n",
    "print(dizi)\n",
    "\n",
    " # 0'dan 10'a kadar 2'şer artan dizi"
   ]
  },
  {
   "cell_type": "code",
   "execution_count": 4,
   "id": "5513941a-b28c-4ba2-aff1-bb70e2f96741",
   "metadata": {},
   "outputs": [
    {
     "name": "stdout",
     "output_type": "stream",
     "text": [
      "[ 0.   2.5  5.   7.5 10. ]\n"
     ]
    }
   ],
   "source": [
    "dizi = np.linspace(0, 10, 5)  \n",
    "print(dizi)\n",
    "\n",
    "# 0 ile 10 arasında 5 eşit aralıklı sayı"
   ]
  },
  {
   "cell_type": "code",
   "execution_count": 6,
   "id": "082d8357-1dd8-4e52-b46e-6f4b4393c4e1",
   "metadata": {},
   "outputs": [
    {
     "name": "stdout",
     "output_type": "stream",
     "text": [
      "[[0. 0. 0.]\n",
      " [0. 0. 0.]\n",
      " [0. 0. 0.]]\n",
      "[[1. 1. 1. 1.]\n",
      " [1. 1. 1. 1.]]\n"
     ]
    }
   ],
   "source": [
    "sıfır_dizi = np.zeros((3, 3))  \n",
    "bir_dizi = np.ones((2, 4))    \n",
    "\n",
    "print(sıfır_dizi)\n",
    "print(bir_dizi)\n",
    "\n",
    "#Belirtilen boyutta sıfır veya bir içeren yukarıda 0 için 3x3 sıfır matris ve 1 için 2x4 matris"
   ]
  },
  {
   "cell_type": "code",
   "execution_count": 7,
   "id": "841d4d92-c021-4b3f-8a31-954feee84032",
   "metadata": {},
   "outputs": [
    {
     "name": "stdout",
     "output_type": "stream",
     "text": [
      "[[0.91395295 0.5500755  0.26414354]\n",
      " [0.26345558 0.76840308 0.04550707]\n",
      " [0.79564994 0.35485458 0.10446362]]\n",
      "[[ 0.03721036  0.82088053]\n",
      " [-0.87511318 -0.58244183]]\n"
     ]
    }
   ],
   "source": [
    "dizi1 = np.random.rand(3, 3)  \n",
    "dizi2 = np.random.randn(2, 2) \n",
    "\n",
    "print(dizi1)\n",
    "print(dizi2)"
   ]
  },
  {
   "cell_type": "code",
   "execution_count": 9,
   "id": "9d468409-a227-4b62-92d3-e8806fa774b0",
   "metadata": {},
   "outputs": [
    {
     "name": "stdout",
     "output_type": "stream",
     "text": [
      "[[ 0  1  2  3]\n",
      " [ 4  5  6  7]\n",
      " [ 8  9 10 11]]\n"
     ]
    }
   ],
   "source": [
    "dizi = np.arange(12)  \n",
    "yeni_dizi = dizi.reshape(3, 4)  \n",
    "\n",
    "print(yeni_dizi)\n",
    "\n",
    "#Bir dizinin şeklini değiştirmek için"
   ]
  },
  {
   "cell_type": "code",
   "execution_count": 11,
   "id": "015bbb5b-caac-4d9d-90d0-1732ab94312a",
   "metadata": {},
   "outputs": [
    {
     "name": "stdout",
     "output_type": "stream",
     "text": [
      "[1 2 3 4 5 6]\n"
     ]
    }
   ],
   "source": [
    "dizi1 = np.array([1, 2, 3])\n",
    "dizi2 = np.array([4, 5, 6])\n",
    "\n",
    "birlestir = np.concatenate((dizi1, dizi2))\n",
    "print(birlestir)\n",
    "\n",
    "#İki veya daha fazla diziyi birleştirmek için"
   ]
  },
  {
   "cell_type": "code",
   "execution_count": 12,
   "id": "4387abfc-1fa9-4451-a5ba-1d4b8f454193",
   "metadata": {},
   "outputs": [
    {
     "name": "stdout",
     "output_type": "stream",
     "text": [
      "15\n",
      "3.0\n",
      "1\n",
      "5\n"
     ]
    }
   ],
   "source": [
    "dizi = np.array([1, 2, 3, 4, 5])\n",
    "\n",
    "print(np.sum(dizi))  \n",
    "print(np.mean(dizi)) \n",
    "print(np.min(dizi)) \n",
    "print(np.max(dizi)) \n",
    "\n",
    "# fonksiyonlar dizinin toplamını, ortalamasını, minimum ve maksimum değerini hesaplamak için"
   ]
  },
  {
   "cell_type": "code",
   "execution_count": 13,
   "id": "ce5e9583-ef1d-42d3-8107-403369dbc95a",
   "metadata": {},
   "outputs": [
    {
     "name": "stdout",
     "output_type": "stream",
     "text": [
      "[[19 22]\n",
      " [43 50]]\n"
     ]
    }
   ],
   "source": [
    "A = np.array([[1, 2], [3, 4]])\n",
    "B = np.array([[5, 6], [7, 8]])\n",
    "\n",
    "carpim = np.dot(A, B)\n",
    "print(carpim)\n",
    "\n",
    "#İki dizinin matris çarpımını hesaplamak için"
   ]
  },
  {
   "cell_type": "code",
   "execution_count": 15,
   "id": "7961b4df-6ef3-4141-8307-d0c114f6f5b7",
   "metadata": {},
   "outputs": [
    {
     "name": "stdout",
     "output_type": "stream",
     "text": [
      "(array([2, 3, 4]),)\n"
     ]
    }
   ],
   "source": [
    "dizi = np.array([10, 20, 30, 40, 50])\n",
    "sonuc = np.where(dizi > 25)\n",
    "\n",
    "print(sonuc) \n",
    "\n",
    "#Belirli bir koşulu sağlayan elemanların konumunu veya değerini almak için"
   ]
  },
  {
   "cell_type": "code",
   "execution_count": null,
   "id": "1638bba0-41a5-4060-a56a-e5d36c12f99b",
   "metadata": {},
   "outputs": [],
   "source": []
  }
 ],
 "metadata": {
  "kernelspec": {
   "display_name": "Python 3 (ipykernel)",
   "language": "python",
   "name": "python3"
  },
  "language_info": {
   "codemirror_mode": {
    "name": "ipython",
    "version": 3
   },
   "file_extension": ".py",
   "mimetype": "text/x-python",
   "name": "python",
   "nbconvert_exporter": "python",
   "pygments_lexer": "ipython3",
   "version": "3.12.9"
  }
 },
 "nbformat": 4,
 "nbformat_minor": 5
}

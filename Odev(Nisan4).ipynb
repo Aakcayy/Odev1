{
 "cells": [
  {
   "cell_type": "raw",
   "id": "360da876-01cc-4bf7-a41d-1201aaac7536",
   "metadata": {},
   "source": [
    "Vectorize işlemi, bir veri yapısını (genellikle bir liste, dizi veya metin gibi) sayısal vektörlere dönüştürme sürecidir. "
   ]
  },
  {
   "cell_type": "raw",
   "id": "703970c2-0758-4559-ab06-735ba40336c5",
   "metadata": {},
   "source": [
    "TF-IDF Vectorizer Nedir?\n",
    "TF-IDF, bu yöntemle kelimelerin önemine göre ağırlık verilir.\n",
    "\n",
    "->TF \n",
    "\n",
    "Bir kelimenin bir cümlede kaç kez geçtiğini ölçer.\n",
    "\n",
    "Örnek:\n",
    "Cümle: kedi kedi köpek\n",
    "TF(kedi) = 2 / 3 = 0.66\n",
    "TF(köpek) = 1 / 3 = 0.33\n",
    "\n",
    "-> IDF \n",
    "Kelimelerin tüm belgeler içindeki yaygınlığına bakar. Yaygınsa önemi azalır.\n",
    "\n",
    "Örnek:\n",
    "ve, bir, ile gibi kelimeler çok sık geçtiği için IDF değeri düşüktür.\n",
    "\n",
    "-> TF-IDF\n",
    "\n",
    "TF ve IDF değerleri çarpılarak son skor elde edilir. Bu skor, kelimenin ilgili cümle için ne kadar önemli olduğunu gösterir."
   ]
  },
  {
   "cell_type": "code",
   "execution_count": 1,
   "id": "e3dce1bb-7f19-4bf1-ac0c-499f934b73b5",
   "metadata": {},
   "outputs": [],
   "source": [
    "from sklearn.feature_extraction.text import TfidfVectorizer\n"
   ]
  },
  {
   "cell_type": "code",
   "execution_count": 2,
   "id": "34374b75-3fdb-4d02-8ee5-9cc0374373e0",
   "metadata": {},
   "outputs": [],
   "source": [
    "metinler = [\"Elma kırmızı\", \"Elma yeşil\", \"Armut sarı\"]"
   ]
  },
  {
   "cell_type": "code",
   "execution_count": 3,
   "id": "ae5b74ef-04f1-42d3-9f81-0b6d9e0b118e",
   "metadata": {},
   "outputs": [],
   "source": [
    "vectorizer = TfidfVectorizer()\n",
    "X = vectorizer.fit_transform(metinler)"
   ]
  },
  {
   "cell_type": "code",
   "execution_count": 4,
   "id": "7ef0ecea-c90f-4949-89bf-4082bfabc184",
   "metadata": {},
   "outputs": [
    {
     "name": "stdout",
     "output_type": "stream",
     "text": [
      "Kelime Listesi: ['armut' 'elma' 'kırmızı' 'sarı' 'yeşil']\n",
      "[[0.         0.60534851 0.79596054 0.         0.        ]\n",
      " [0.         0.60534851 0.         0.         0.79596054]\n",
      " [0.70710678 0.         0.         0.70710678 0.        ]]\n"
     ]
    }
   ],
   "source": [
    "print(\"Kelime Listesi:\", vectorizer.get_feature_names_out())\n",
    "print(X.toarray())"
   ]
  },
  {
   "cell_type": "code",
   "execution_count": 5,
   "id": "4b5c6287-b16c-481e-8c0b-150d1a65e48d",
   "metadata": {},
   "outputs": [],
   "source": [
    "vectorizer = TfidfVectorizer(ngram_range=(1,2), stop_words='english', max_df=0.95)\n",
    "X = vectorizer.fit_transform(metinler)"
   ]
  },
  {
   "cell_type": "code",
   "execution_count": 9,
   "id": "322f829d-0fe2-4f5d-b4fe-4434621f1e7f",
   "metadata": {},
   "outputs": [],
   "source": [
    "import pandas as pd\n"
   ]
  },
  {
   "cell_type": "code",
   "execution_count": 10,
   "id": "4e71ac14-699e-421d-90ec-0e6afafd8c30",
   "metadata": {},
   "outputs": [
    {
     "name": "stdout",
     "output_type": "stream",
     "text": [
      "     armut  armut sarı     elma  elma kırmızı  elma yeşil   kırmızı     sarı  \\\n",
      "0  0.00000     0.00000  0.47363      0.622766    0.000000  0.622766  0.00000   \n",
      "1  0.00000     0.00000  0.47363      0.000000    0.622766  0.000000  0.00000   \n",
      "2  0.57735     0.57735  0.00000      0.000000    0.000000  0.000000  0.57735   \n",
      "\n",
      "      yeşil  \n",
      "0  0.000000  \n",
      "1  0.622766  \n",
      "2  0.000000  \n"
     ]
    }
   ],
   "source": [
    "df = pd.DataFrame(X.toarray(), columns=vectorizer.get_feature_names_out())\n",
    "print(df)"
   ]
  },
  {
   "cell_type": "code",
   "execution_count": null,
   "id": "96d53008-e7ca-46c9-9c2b-67ba0ae729e7",
   "metadata": {},
   "outputs": [],
   "source": []
  }
 ],
 "metadata": {
  "kernelspec": {
   "display_name": "Python 3 (ipykernel)",
   "language": "python",
   "name": "python3"
  },
  "language_info": {
   "codemirror_mode": {
    "name": "ipython",
    "version": 3
   },
   "file_extension": ".py",
   "mimetype": "text/x-python",
   "name": "python",
   "nbconvert_exporter": "python",
   "pygments_lexer": "ipython3",
   "version": "3.12.9"
  }
 },
 "nbformat": 4,
 "nbformat_minor": 5
}

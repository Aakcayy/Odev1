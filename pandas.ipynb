{
 "cells": [
  {
   "cell_type": "code",
   "execution_count": 1,
   "id": "6ccb341d-9fac-4f20-9b54-e33a713f438d",
   "metadata": {},
   "outputs": [
    {
     "name": "stdout",
     "output_type": "stream",
     "text": [
      "     isim  yas     sehir\n",
      "0   Ahmet   25  İstanbul\n",
      "1    Ayşe   30    Ankara\n",
      "2  Mehmet   22     İzmir\n"
     ]
    }
   ],
   "source": [
    "import pandas as pd\n",
    "\n",
    "veri = {'isim': ['Ahmet', 'Ayşe', 'Mehmet', 'Zeynep', 'Kemal'],\n",
    "        'yas': [25, 30, 22, 28, 35],\n",
    "        'sehir': ['İstanbul', 'Ankara', 'İzmir', 'Bursa', 'Antalya']}\n",
    "\n",
    "df = pd.DataFrame(veri)\n",
    "\n",
    "print(df.head(3))"
   ]
  },
  {
   "cell_type": "code",
   "execution_count": 2,
   "id": "ecdc1036-24e5-474e-bb67-7b74092166b7",
   "metadata": {},
   "outputs": [
    {
     "name": "stdout",
     "output_type": "stream",
     "text": [
      "     isim  yas    sehir\n",
      "3  Zeynep   28    Bursa\n",
      "4   Kemal   35  Antalya\n"
     ]
    }
   ],
   "source": [
    "print(df.tail(2))"
   ]
  },
  {
   "cell_type": "code",
   "execution_count": 3,
   "id": "d5aad0bc-6f54-414d-8367-203adfabaa19",
   "metadata": {},
   "outputs": [
    {
     "name": "stdout",
     "output_type": "stream",
     "text": [
      "<class 'pandas.core.frame.DataFrame'>\n",
      "RangeIndex: 5 entries, 0 to 4\n",
      "Data columns (total 3 columns):\n",
      " #   Column  Non-Null Count  Dtype \n",
      "---  ------  --------------  ----- \n",
      " 0   isim    5 non-null      object\n",
      " 1   yas     5 non-null      int64 \n",
      " 2   sehir   5 non-null      object\n",
      "dtypes: int64(1), object(2)\n",
      "memory usage: 252.0+ bytes\n",
      "None\n"
     ]
    }
   ],
   "source": [
    "print(df.info())"
   ]
  },
  {
   "cell_type": "code",
   "execution_count": 4,
   "id": "c2e70bce-d938-455b-bde7-53de8e647542",
   "metadata": {},
   "outputs": [
    {
     "name": "stdout",
     "output_type": "stream",
     "text": [
      "             yas\n",
      "count   5.000000\n",
      "mean   28.000000\n",
      "std     4.949747\n",
      "min    22.000000\n",
      "25%    25.000000\n",
      "50%    28.000000\n",
      "75%    30.000000\n",
      "max    35.000000\n"
     ]
    }
   ],
   "source": [
    "print(df.describe())"
   ]
  },
  {
   "cell_type": "code",
   "execution_count": 5,
   "id": "df356eb4-5f4a-410d-a9c5-1cb406ab23d1",
   "metadata": {},
   "outputs": [
    {
     "name": "stdout",
     "output_type": "stream",
     "text": [
      "(5, 3)\n"
     ]
    }
   ],
   "source": [
    "print(df.shape)"
   ]
  },
  {
   "cell_type": "code",
   "execution_count": 7,
   "id": "7a14d425-8e27-4b8b-95ed-41d150640ec9",
   "metadata": {},
   "outputs": [
    {
     "name": "stdout",
     "output_type": "stream",
     "text": [
      "30\n"
     ]
    }
   ],
   "source": [
    "print(df.loc[1, 'yas'])  "
   ]
  },
  {
   "cell_type": "code",
   "execution_count": 8,
   "id": "20832cd3-d256-4fcf-b0b4-e2a90cfe4cfc",
   "metadata": {},
   "outputs": [
    {
     "name": "stdout",
     "output_type": "stream",
     "text": [
      "22\n"
     ]
    }
   ],
   "source": [
    "print(df.iloc[2, 1])"
   ]
  },
  {
   "cell_type": "code",
   "execution_count": 9,
   "id": "af0647a8-3f68-4e1c-9bfa-2a5d68878f75",
   "metadata": {},
   "outputs": [
    {
     "name": "stdout",
     "output_type": "stream",
     "text": [
      "sehir\n",
      "Ankara      30.0\n",
      "Antalya     35.0\n",
      "Bursa       28.0\n",
      "İstanbul    25.0\n",
      "İzmir       22.0\n",
      "Name: yas, dtype: float64\n"
     ]
    }
   ],
   "source": [
    "print(df.groupby('sehir')['yas'].mean())"
   ]
  },
  {
   "cell_type": "code",
   "execution_count": 10,
   "id": "3eb85c6f-9ac7-41eb-a378-fd2828032ee5",
   "metadata": {},
   "outputs": [
    {
     "name": "stdout",
     "output_type": "stream",
     "text": [
      "     isim  yas     sehir\n",
      "4   Kemal   35   Antalya\n",
      "1    Ayşe   30    Ankara\n",
      "3  Zeynep   28     Bursa\n",
      "0   Ahmet   25  İstanbul\n",
      "2  Mehmet   22     İzmir\n"
     ]
    }
   ],
   "source": [
    "print(df.sort_values(by='yas', ascending=False))  # Yaşa göre azalan sırada sıralar"
   ]
  },
  {
   "cell_type": "code",
   "execution_count": 11,
   "id": "dd804b83-0ef7-4b92-a313-5e02a10409de",
   "metadata": {},
   "outputs": [
    {
     "name": "stdout",
     "output_type": "stream",
     "text": [
      "   sütun1 sütun2\n",
      "0     1.0      a\n",
      "3     4.0      d\n"
     ]
    }
   ],
   "source": [
    "df_bos = pd.DataFrame({'sütun1': [1, 2, None, 4], 'sütun2': ['a', None, 'c', 'd']})\n",
    "print(df_bos.dropna())"
   ]
  },
  {
   "cell_type": "code",
   "execution_count": null,
   "id": "c9991526-38ff-4ecf-a4b8-4136b2c48cf6",
   "metadata": {},
   "outputs": [],
   "source": []
  }
 ],
 "metadata": {
  "kernelspec": {
   "display_name": "Python 3 (ipykernel)",
   "language": "python",
   "name": "python3"
  },
  "language_info": {
   "codemirror_mode": {
    "name": "ipython",
    "version": 3
   },
   "file_extension": ".py",
   "mimetype": "text/x-python",
   "name": "python",
   "nbconvert_exporter": "python",
   "pygments_lexer": "ipython3",
   "version": "3.12.9"
  }
 },
 "nbformat": 4,
 "nbformat_minor": 5
}

{
 "cells": [
  {
   "cell_type": "raw",
   "id": "96ba608b-dee1-4b8e-bdd4-23308af4be08",
   "metadata": {},
   "source": [
    "OCR, basılı ya da el yazısı bir metni, resimden dijital, düzenlenebilir yazıya çeviren bir teknolojidir."
   ]
  },
  {
   "cell_type": "raw",
   "id": "f7785a15-dddd-48ee-9865-d5713f6e6a13",
   "metadata": {},
   "source": [
    "OCR teknolojisi kullanılabilir hale gelmeden önce, belgeleri dijital olarak biçimlendirmenin tek seçeneği metni manuel olarak yeniden girmekti. \n",
    "Gereksiz girdi zaman alıcı olmakla kalmıyor, aynı zamanda kaçınılmaz yanlışlıklar ve yazım hatalarıyla da birlikte geliyor. "
   ]
  },
  {
   "cell_type": "raw",
   "id": "80d8d9eb-d822-4e29-ab36-86de2efc5635",
   "metadata": {},
   "source": [
    "OCR genel olarak nasıl çalışılır dersek kısaca şu şekilde maddeler halinde açıklarsak\n",
    "\n",
    "1-Görüntüyü alır ; tüm belge sayfaları kopyalanır ve ardından OCR motoru dijital belgeyi iki renkli veya siyah beyaz bir versiyona dönüştürerek  koyu kısımları \n",
    "tanınması gereken karakterler olarak tanımlarken, açık alanlar arka plan olarak tanımlanır. \n",
    "\n",
    "2-Ön işleme yapar ; dijital görüntü, yabancı pikselleri kaldırmak için temizlenir.\n",
    "\n",
    "3-Harfleri, şekilleri analiz eder ; koyu kısımlar alfabetik harfleri, sayısal rakamları veya sembolleri bulmak için işlenir.\n",
    "\n",
    "4-Metin olarak döndürür ; daha eksiksiz bir OCR programı ayrıca bir belge görüntüsünün yapısını da analiz edecektir ve tüm olası eşleşmeleri işledikten \n",
    "sonra program tanınan metni döndürür.\n",
    "\n",
    "5-Son işleme: Toplanan bilgiler düzenlenebilir bir biçimde veya PDF olarak dijital bir dosya olarak saklanır. Bazı sistemler daha kolay karşılaştırma \n",
    "ve daha eksiksiz belge yönetimi için hem giriş görüntüsünü hem de OCR sonrası sürümleri saklar.\n"
   ]
  },
  {
   "cell_type": "raw",
   "id": "ea45b58f-1a58-4c14-9150-5ac623c967d3",
   "metadata": {},
   "source": [
    "Yaptığım araştırmalara göre OCR'nin dört temel türü var:\n",
    "\n",
    "1-Basit OCR:\n",
    "Her harfi, kayıtlı şekillerle (gliflerle) karşılaştırır. Yazı tipi değişirse zorlanabiliyor.\n",
    "\n",
    "2-OMR (Optik İşaret Tanıma):\n",
    "Formlardaki işaretli kutuları, baloncukları ve sembolleri tanır. OCR gibi ama sadece işaretler için.\n",
    "\n",
    "3-ICR (Akıllı Karakter Tanıma):\n",
    "Yapay zeka ile çalışır. Harfleri tanımayı öğrenir. El yazısını okumada daha başarılı olabilir.\n",
    "\n",
    "4-Akıllı Kelime Tanıma:\n",
    "Tek tek harf yerine, kelimeyi bütün olarak tanır. Daha hızlı ve gelişmiş bir yöntem."
   ]
  },
  {
   "cell_type": "raw",
   "id": "5ab521f8-9494-4485-bb3e-b60aecac0b10",
   "metadata": {},
   "source": [
    "OCR teknolojisinin kullanılmasının faydaları arasında şunlar yer alır:\n",
    "\n",
    "-Gereksiz manuel girdileri azaltarak veya ortadan kaldırarak maliyetleri düşürün.\n",
    "\n",
    "-Önceden basılı belgelerin veya yazılı formların girişiyle iş akışlarını kolaylaştırın  ve aranabilir dijital verilerle araştırmaları hızlandırın.\n",
    "\n",
    "-Belge yönlendirmeyi, içerik işlemeyi ve  metin madenciliği için hazırlamayı otomatikleştirin .\n",
    "\n",
    "-Daha fazla kağıt kaydı saklamanın maliyetinden tasarruf edin.\n",
    "\n",
    "-Yangınlara, hırsızlıklara ve banka kasalarında kaybolan belgelere karşı koruma sağlamak için veri kümelerini merkezileştirin ve güvenliğini sağlayın.\n",
    "\n",
    "-Görme engelli personel ve müşterilerin verilere daha kolay erişebilmesini sağlayın.\n",
    "\n",
    "-Çalışanlarınıza en güncel ve doğru bilgileri sunarak hizmetinizi iyileştirin."
   ]
  },
  {
   "cell_type": "raw",
   "id": "d38b6bb7-db76-4b8e-bc19-88dbd2397bf4",
   "metadata": {},
   "source": [
    "OCR Kullanım Alanları\n",
    "\n",
    "-> Basılı belgeleri düzenlenebilir metne dönüştürür (Word, Google Docs vb.)\n",
    "\n",
    "-> Fatura, makbuz, kredi başvurusu gibi evrakları dijitalleştirir\n",
    "\n",
    "-> Hasta kayıtları ve sigorta formlarını işler\n",
    "\n",
    "-> Eğitim, finans, sağlık, lojistik gibi birçok sektörde kullanılır\n",
    "\n",
    "-> Taranan belgeleri aranabilir PDF’lere çevirir\n",
    "\n",
    "-> Büyük veri sistemlerine veri sağlar (otomatik veri madenciliği)\n",
    "\n",
    "-> Plaka tanıma sistemlerinde yer alır\n",
    "\n",
    "-> Pasaport, kimlik gibi resmi belgeleri okur\n",
    "\n",
    "-> Görme engellilere metni sesli okuma sistemlerinde kullanılır\n",
    "\n",
    "-> Kartvizitleri otomatik tanır ve kaydeder\n",
    "\n",
    "-> Arama motorları için belgeleri dizine eklemeye yardımcı olur\n",
    "\n",
    "-> JPG, PNG, PDF gibi birçok dosya türüyle çalışabilir"
   ]
  },
  {
   "cell_type": "markdown",
   "id": "b2add07a-981a-410c-9682-4c34702b0890",
   "metadata": {},
   "source": [
    "### Hocam uygulama kısmı bende güzel olmadı bu yüzden eklemek istemedim\n",
    "\n",
    "### Siz yapıp paylaşırsanız çok memnun olurum"
   ]
  },
  {
   "cell_type": "code",
   "execution_count": null,
   "id": "80aaac4b-71ec-4c5f-a39a-28eb9c76e086",
   "metadata": {},
   "outputs": [],
   "source": []
  }
 ],
 "metadata": {
  "kernelspec": {
   "display_name": "Python 3 (ipykernel)",
   "language": "python",
   "name": "python3"
  },
  "language_info": {
   "codemirror_mode": {
    "name": "ipython",
    "version": 3
   },
   "file_extension": ".py",
   "mimetype": "text/x-python",
   "name": "python",
   "nbconvert_exporter": "python",
   "pygments_lexer": "ipython3",
   "version": "3.12.9"
  }
 },
 "nbformat": 4,
 "nbformat_minor": 5
}
